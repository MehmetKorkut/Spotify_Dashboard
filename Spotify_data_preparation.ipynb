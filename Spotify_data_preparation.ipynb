{
  "nbformat": 4,
  "nbformat_minor": 0,
  "metadata": {
    "colab": {
      "name": "Untitled11.ipynb",
      "provenance": [],
      "authorship_tag": "ABX9TyMRnEBPfT1kt2oKIOgXRtzJ",
      "include_colab_link": true
    },
    "kernelspec": {
      "name": "python3",
      "display_name": "Python 3"
    },
    "language_info": {
      "name": "python"
    }
  },
  "cells": [
    {
      "cell_type": "markdown",
      "metadata": {
        "id": "view-in-github",
        "colab_type": "text"
      },
      "source": [
        "<a href=\"https://colab.research.google.com/github/MehmetKorkut/Spotify_Dashboard/blob/main/Spotify_data_preparation.ipynb\" target=\"_parent\"><img src=\"https://colab.research.google.com/assets/colab-badge.svg\" alt=\"Open In Colab\"/></a>"
      ]
    },
    {
      "cell_type": "markdown",
      "metadata": {
        "id": "IJgp4Whgg_26"
      },
      "source": [
        "<center>\n",
        "\n",
        "# ***Visualizing Spotify Data with Python and Tableau***\n",
        "\n",
        "![picture](https://wallpaperaccess.com/full/667773.jpg)\n",
        "\n",
        "</center>"
      ]
    },
    {
      "cell_type": "markdown",
      "metadata": {
        "id": "4xZsXUrNhM9h"
      },
      "source": [
        "The code source in this project is from https://towardsdatascience.com/visualizing-spotify-data-with-python-tableau-687f2f528cdd. It belongs to Anne Bode. I only made a few changes because of the problems occured due to my data. The main reason why I did this is that I think it is fun to see my music data visually and learning tableau at the same time."
      ]
    },
    {
      "cell_type": "code",
      "metadata": {
        "id": "_ysaRPpag7bz"
      },
      "source": [
        "#packages\n",
        "import pandas as pd\n",
        "import numpy as np\n",
        "import requests"
      ],
      "execution_count": null,
      "outputs": []
    },
    {
      "cell_type": "code",
      "metadata": {
        "colab": {
          "base_uri": "https://localhost:8080/",
          "height": 203
        },
        "id": "9HFcefsNkBbr",
        "outputId": "1d1e64a9-7641-48c1-a7b7-8c509c7b2e2c"
      },
      "source": [
        "#creating dataset\n",
        "# read your 1+ StreamingHistory files (depending on how extensive your streaming history is) into pandas dataframes\n",
        "df_stream0 = pd.read_json('StreamingHistory0.json')\n",
        "df_stream1 = pd.read_json('StreamingHistory1.json')\n",
        "df_stream2 = pd.read_json('StreamingHistory2.json')\n",
        "\n",
        "# merge streaming dataframes\n",
        "df_stream = pd.concat([df_stream0, df_stream1,df_stream2])\n",
        "\n",
        "# create a 'UniqueID' for each song by combining the fields 'artistName' and 'trackName'\n",
        "df_stream['UniqueID'] = df_stream['artistName'] + \":\" + df_stream['trackName']\n",
        "\n",
        "df_stream.head()"
      ],
      "execution_count": null,
      "outputs": [
        {
          "output_type": "execute_result",
          "data": {
            "text/html": [
              "<div>\n",
              "<style scoped>\n",
              "    .dataframe tbody tr th:only-of-type {\n",
              "        vertical-align: middle;\n",
              "    }\n",
              "\n",
              "    .dataframe tbody tr th {\n",
              "        vertical-align: top;\n",
              "    }\n",
              "\n",
              "    .dataframe thead th {\n",
              "        text-align: right;\n",
              "    }\n",
              "</style>\n",
              "<table border=\"1\" class=\"dataframe\">\n",
              "  <thead>\n",
              "    <tr style=\"text-align: right;\">\n",
              "      <th></th>\n",
              "      <th>endTime</th>\n",
              "      <th>artistName</th>\n",
              "      <th>trackName</th>\n",
              "      <th>msPlayed</th>\n",
              "      <th>UniqueID</th>\n",
              "    </tr>\n",
              "  </thead>\n",
              "  <tbody>\n",
              "    <tr>\n",
              "      <th>0</th>\n",
              "      <td>2020-09-21 07:39</td>\n",
              "      <td>Erik Eriksson</td>\n",
              "      <td>White Noise 3 Hour Long</td>\n",
              "      <td>2926566</td>\n",
              "      <td>Erik Eriksson:White Noise 3 Hour Long</td>\n",
              "    </tr>\n",
              "    <tr>\n",
              "      <th>1</th>\n",
              "      <td>2020-09-21 15:03</td>\n",
              "      <td>Ini Kamoze</td>\n",
              "      <td>WORLD-A-REGGAE Music</td>\n",
              "      <td>35390</td>\n",
              "      <td>Ini Kamoze:WORLD-A-REGGAE Music</td>\n",
              "    </tr>\n",
              "    <tr>\n",
              "      <th>2</th>\n",
              "      <td>2020-09-21 17:40</td>\n",
              "      <td>Exodus</td>\n",
              "      <td>Salt the Wound</td>\n",
              "      <td>221866</td>\n",
              "      <td>Exodus:Salt the Wound</td>\n",
              "    </tr>\n",
              "    <tr>\n",
              "      <th>3</th>\n",
              "      <td>2020-09-22 06:32</td>\n",
              "      <td>Erik Eriksson</td>\n",
              "      <td>White Noise 3 Hour Long</td>\n",
              "      <td>9967424</td>\n",
              "      <td>Erik Eriksson:White Noise 3 Hour Long</td>\n",
              "    </tr>\n",
              "    <tr>\n",
              "      <th>4</th>\n",
              "      <td>2020-09-22 07:48</td>\n",
              "      <td>Megadeth</td>\n",
              "      <td>Dystopia</td>\n",
              "      <td>183490</td>\n",
              "      <td>Megadeth:Dystopia</td>\n",
              "    </tr>\n",
              "  </tbody>\n",
              "</table>\n",
              "</div>"
            ],
            "text/plain": [
              "            endTime  ...                               UniqueID\n",
              "0  2020-09-21 07:39  ...  Erik Eriksson:White Noise 3 Hour Long\n",
              "1  2020-09-21 15:03  ...        Ini Kamoze:WORLD-A-REGGAE Music\n",
              "2  2020-09-21 17:40  ...                  Exodus:Salt the Wound\n",
              "3  2020-09-22 06:32  ...  Erik Eriksson:White Noise 3 Hour Long\n",
              "4  2020-09-22 07:48  ...                      Megadeth:Dystopia\n",
              "\n",
              "[5 rows x 5 columns]"
            ]
          },
          "metadata": {},
          "execution_count": 2
        }
      ]
    },
    {
      "cell_type": "code",
      "metadata": {
        "colab": {
          "base_uri": "https://localhost:8080/",
          "height": 270
        },
        "id": "CwO9uccFPb8o",
        "outputId": "12778b1a-f67a-4b2f-e64a-37b2509c7fdf"
      },
      "source": [
        "df_library=pd.read_csv('YourLibrary.csv')\n",
        "# add UniqueID column (same as above)\n",
        "df_library['UniqueID'] = df_library['Artist'] + \":\" + df_library['Track']\n",
        "\n",
        "# add column with track URI stripped of 'spotify:track:'\n",
        "new = df_library[\"Uri\"].str.split(\":\", expand = True)\n",
        "df_library['Track_Uri'] = new[2]\n",
        "df_library.drop(columns=['Document Index (generated)','tracks. Index (generated)','Number of Records per YourLibrary.json'],inplace=True)\n",
        "df_library.head()"
      ],
      "execution_count": null,
      "outputs": [
        {
          "output_type": "execute_result",
          "data": {
            "text/html": [
              "<div>\n",
              "<style scoped>\n",
              "    .dataframe tbody tr th:only-of-type {\n",
              "        vertical-align: middle;\n",
              "    }\n",
              "\n",
              "    .dataframe tbody tr th {\n",
              "        vertical-align: top;\n",
              "    }\n",
              "\n",
              "    .dataframe thead th {\n",
              "        text-align: right;\n",
              "    }\n",
              "</style>\n",
              "<table border=\"1\" class=\"dataframe\">\n",
              "  <thead>\n",
              "    <tr style=\"text-align: right;\">\n",
              "      <th></th>\n",
              "      <th>Album</th>\n",
              "      <th>Artist</th>\n",
              "      <th>Track</th>\n",
              "      <th>Uri</th>\n",
              "      <th>UniqueID</th>\n",
              "      <th>Track_Uri</th>\n",
              "    </tr>\n",
              "  </thead>\n",
              "  <tbody>\n",
              "    <tr>\n",
              "      <th>0</th>\n",
              "      <td>Master Of Puppets</td>\n",
              "      <td>Metallica</td>\n",
              "      <td>Master Of Puppets - Live At The Country Club, ...</td>\n",
              "      <td>spotify:track:7FDuSqP0qxvFFrcftd93aB</td>\n",
              "      <td>Metallica:Master Of Puppets - Live At The Coun...</td>\n",
              "      <td>7FDuSqP0qxvFFrcftd93aB</td>\n",
              "    </tr>\n",
              "    <tr>\n",
              "      <th>1</th>\n",
              "      <td>Reunion</td>\n",
              "      <td>Black Sabbath</td>\n",
              "      <td>N.I.B. - Live</td>\n",
              "      <td>spotify:track:5uKsIijGkAbWmYAEdnCPhG</td>\n",
              "      <td>Black Sabbath:N.I.B. - Live</td>\n",
              "      <td>5uKsIijGkAbWmYAEdnCPhG</td>\n",
              "    </tr>\n",
              "    <tr>\n",
              "      <th>2</th>\n",
              "      <td>Live MMXIV</td>\n",
              "      <td>Pentagram</td>\n",
              "      <td>Apokalips - Garajistanbul, 27 Haziran 2014 İst...</td>\n",
              "      <td>spotify:track:0CFgePbuBfvMvornA4z4H4</td>\n",
              "      <td>Pentagram:Apokalips - Garajistanbul, 27 Hazira...</td>\n",
              "      <td>0CFgePbuBfvMvornA4z4H4</td>\n",
              "    </tr>\n",
              "    <tr>\n",
              "      <th>3</th>\n",
              "      <td>Hellbilly Deluxe</td>\n",
              "      <td>Rob Zombie</td>\n",
              "      <td>Dragula</td>\n",
              "      <td>spotify:track:6Nm8h73ycDG2saCnZV8poF</td>\n",
              "      <td>Rob Zombie:Dragula</td>\n",
              "      <td>6Nm8h73ycDG2saCnZV8poF</td>\n",
              "    </tr>\n",
              "    <tr>\n",
              "      <th>4</th>\n",
              "      <td>The Stage</td>\n",
              "      <td>Avenged Sevenfold</td>\n",
              "      <td>Runaway</td>\n",
              "      <td>spotify:track:071hmHI51coELRK8hoH12U</td>\n",
              "      <td>Avenged Sevenfold:Runaway</td>\n",
              "      <td>071hmHI51coELRK8hoH12U</td>\n",
              "    </tr>\n",
              "  </tbody>\n",
              "</table>\n",
              "</div>"
            ],
            "text/plain": [
              "               Album  ...               Track_Uri\n",
              "0  Master Of Puppets  ...  7FDuSqP0qxvFFrcftd93aB\n",
              "1            Reunion  ...  5uKsIijGkAbWmYAEdnCPhG\n",
              "2         Live MMXIV  ...  0CFgePbuBfvMvornA4z4H4\n",
              "3   Hellbilly Deluxe  ...  6Nm8h73ycDG2saCnZV8poF\n",
              "4          The Stage  ...  071hmHI51coELRK8hoH12U\n",
              "\n",
              "[5 rows x 6 columns]"
            ]
          },
          "metadata": {},
          "execution_count": 41
        }
      ]
    },
    {
      "cell_type": "code",
      "metadata": {
        "colab": {
          "base_uri": "https://localhost:8080/",
          "height": 304
        },
        "id": "sqxessjlTiV8",
        "outputId": "2c9f2fa9-5e96-4fa7-d515-2a447a806e2d"
      },
      "source": [
        "# create final dict as a copy df_stream\n",
        "df_tableau = df_stream.copy()\n",
        "\n",
        "# add column checking if streamed song is in library\n",
        "# not used in this project but could be helpful for cool visualizations\n",
        "df_tableau['In Library'] = np.where(df_tableau['UniqueID'].isin(df_library['UniqueID'].tolist()),1,0)\n",
        "\n",
        "# left join with df_library on UniqueID to bring in album and track_uri\n",
        "df_tableau = pd.merge(df_tableau, df_library[['Album','UniqueID','Track_Uri']],how='left',on=['UniqueID'])\n",
        "\n",
        "df_tableau.head()"
      ],
      "execution_count": null,
      "outputs": [
        {
          "output_type": "execute_result",
          "data": {
            "text/html": [
              "<div>\n",
              "<style scoped>\n",
              "    .dataframe tbody tr th:only-of-type {\n",
              "        vertical-align: middle;\n",
              "    }\n",
              "\n",
              "    .dataframe tbody tr th {\n",
              "        vertical-align: top;\n",
              "    }\n",
              "\n",
              "    .dataframe thead th {\n",
              "        text-align: right;\n",
              "    }\n",
              "</style>\n",
              "<table border=\"1\" class=\"dataframe\">\n",
              "  <thead>\n",
              "    <tr style=\"text-align: right;\">\n",
              "      <th></th>\n",
              "      <th>endTime</th>\n",
              "      <th>artistName</th>\n",
              "      <th>trackName</th>\n",
              "      <th>msPlayed</th>\n",
              "      <th>UniqueID</th>\n",
              "      <th>In Library</th>\n",
              "      <th>Album</th>\n",
              "      <th>Track_Uri</th>\n",
              "    </tr>\n",
              "  </thead>\n",
              "  <tbody>\n",
              "    <tr>\n",
              "      <th>0</th>\n",
              "      <td>2020-09-21 07:39</td>\n",
              "      <td>Erik Eriksson</td>\n",
              "      <td>White Noise 3 Hour Long</td>\n",
              "      <td>2926566</td>\n",
              "      <td>Erik Eriksson:White Noise 3 Hour Long</td>\n",
              "      <td>0</td>\n",
              "      <td>NaN</td>\n",
              "      <td>NaN</td>\n",
              "    </tr>\n",
              "    <tr>\n",
              "      <th>1</th>\n",
              "      <td>2020-09-21 15:03</td>\n",
              "      <td>Ini Kamoze</td>\n",
              "      <td>WORLD-A-REGGAE Music</td>\n",
              "      <td>35390</td>\n",
              "      <td>Ini Kamoze:WORLD-A-REGGAE Music</td>\n",
              "      <td>1</td>\n",
              "      <td>16 Vibes</td>\n",
              "      <td>0hr9CoeDSUMmQQ7ZgTLRzh</td>\n",
              "    </tr>\n",
              "    <tr>\n",
              "      <th>2</th>\n",
              "      <td>2020-09-21 17:40</td>\n",
              "      <td>Exodus</td>\n",
              "      <td>Salt the Wound</td>\n",
              "      <td>221866</td>\n",
              "      <td>Exodus:Salt the Wound</td>\n",
              "      <td>0</td>\n",
              "      <td>NaN</td>\n",
              "      <td>NaN</td>\n",
              "    </tr>\n",
              "    <tr>\n",
              "      <th>3</th>\n",
              "      <td>2020-09-22 06:32</td>\n",
              "      <td>Erik Eriksson</td>\n",
              "      <td>White Noise 3 Hour Long</td>\n",
              "      <td>9967424</td>\n",
              "      <td>Erik Eriksson:White Noise 3 Hour Long</td>\n",
              "      <td>0</td>\n",
              "      <td>NaN</td>\n",
              "      <td>NaN</td>\n",
              "    </tr>\n",
              "    <tr>\n",
              "      <th>4</th>\n",
              "      <td>2020-09-22 07:48</td>\n",
              "      <td>Megadeth</td>\n",
              "      <td>Dystopia</td>\n",
              "      <td>183490</td>\n",
              "      <td>Megadeth:Dystopia</td>\n",
              "      <td>1</td>\n",
              "      <td>Dystopia</td>\n",
              "      <td>0KiRc3f3OI9C7s0S1QjQNO</td>\n",
              "    </tr>\n",
              "  </tbody>\n",
              "</table>\n",
              "</div>"
            ],
            "text/plain": [
              "            endTime     artistName  ...     Album               Track_Uri\n",
              "0  2020-09-21 07:39  Erik Eriksson  ...       NaN                     NaN\n",
              "1  2020-09-21 15:03     Ini Kamoze  ...  16 Vibes  0hr9CoeDSUMmQQ7ZgTLRzh\n",
              "2  2020-09-21 17:40         Exodus  ...       NaN                     NaN\n",
              "3  2020-09-22 06:32  Erik Eriksson  ...       NaN                     NaN\n",
              "4  2020-09-22 07:48       Megadeth  ...  Dystopia  0KiRc3f3OI9C7s0S1QjQNO\n",
              "\n",
              "[5 rows x 8 columns]"
            ]
          },
          "metadata": {},
          "execution_count": 43
        }
      ]
    },
    {
      "cell_type": "code",
      "metadata": {
        "id": "PtaKzDIDTqIa"
      },
      "source": [
        "# save your IDs from new project in Spotify Developer Dashboard\n",
        "CLIENT_ID = 'a8c3529aca65472ea9058145146b25b5'\n",
        "CLIENT_SECRET = '0b444e5ae8004cdfa702025ab2214b3a'"
      ],
      "execution_count": null,
      "outputs": []
    },
    {
      "cell_type": "code",
      "metadata": {
        "id": "7v0KJNvGWWwy"
      },
      "source": [
        "# generate access token\n",
        "\n",
        "# authentication URL\n",
        "AUTH_URL = 'https://accounts.spotify.com/api/token'\n",
        "\n",
        "# POST\n",
        "auth_response = requests.post(AUTH_URL, {\n",
        "    'grant_type': 'client_credentials',\n",
        "    'client_id': CLIENT_ID,\n",
        "    'client_secret': CLIENT_SECRET,\n",
        "})\n",
        "\n",
        "# convert the response to JSON\n",
        "auth_response_data = auth_response.json()\n",
        "\n",
        "# save the access token\n",
        "access_token = auth_response_data['access_token']"
      ],
      "execution_count": null,
      "outputs": []
    },
    {
      "cell_type": "code",
      "metadata": {
        "id": "5Wz65K81WaTH"
      },
      "source": [
        "# used for authenticating all API calls\n",
        "headers = {'Authorization': 'Bearer {token}'.format(token=access_token)}"
      ],
      "execution_count": null,
      "outputs": []
    },
    {
      "cell_type": "code",
      "metadata": {
        "id": "67FmHaF0WkLU"
      },
      "source": [
        "# base URL of all Spotify API endpoints\n",
        "BASE_URL = 'https://api.spotify.com/v1/'"
      ],
      "execution_count": null,
      "outputs": []
    },
    {
      "cell_type": "code",
      "metadata": {
        "id": "ntDWLrccWnKy"
      },
      "source": [
        "# create blank dictionary to store track URI, artist URI, and genres\n",
        "dict_genre = {}\n",
        "\n",
        "# convert track_uri column to an iterable list\n",
        "track_uris = df_library['Track_Uri'].to_list()\n",
        "\n",
        "# loop through track URIs and pull artist URI using the API,\n",
        "# then use artist URI to pull genres associated with that artist\n",
        "# store all these in a dictionary\n",
        "for t_uri in track_uris:\n",
        "    \n",
        "    dict_genre[t_uri] = {'artist_uri': \"\", \"genres\":[]}\n",
        "    \n",
        "    r = requests.get(BASE_URL + 'tracks/' + t_uri, headers=headers)\n",
        "    r = r.json()\n",
        "    a_uri = r['artists'][0]['uri'].split(':')[2]\n",
        "    dict_genre[t_uri]['artist_uri'] = a_uri\n",
        "    \n",
        "    s = requests.get(BASE_URL + 'artists/' + a_uri, headers=headers)\n",
        "    s = s.json()\n",
        "    dict_genre[t_uri]['genres'] = s['genres']"
      ],
      "execution_count": null,
      "outputs": []
    },
    {
      "cell_type": "code",
      "metadata": {
        "colab": {
          "base_uri": "https://localhost:8080/",
          "height": 203
        },
        "id": "JrA_a3deYPio",
        "outputId": "e29f9ded-9a9a-4737-a856-8bba63232f01"
      },
      "source": [
        "# convert dictionary into dataframe with track_uri as the first column\n",
        "df_genre = pd.DataFrame.from_dict(dict_genre, orient='index')\n",
        "df_genre.insert(0, 'track_uri', df_genre.index)\n",
        "df_genre.reset_index(inplace=True, drop=True)\n",
        "\n",
        "df_genre.head()"
      ],
      "execution_count": null,
      "outputs": [
        {
          "output_type": "execute_result",
          "data": {
            "text/html": [
              "<div>\n",
              "<style scoped>\n",
              "    .dataframe tbody tr th:only-of-type {\n",
              "        vertical-align: middle;\n",
              "    }\n",
              "\n",
              "    .dataframe tbody tr th {\n",
              "        vertical-align: top;\n",
              "    }\n",
              "\n",
              "    .dataframe thead th {\n",
              "        text-align: right;\n",
              "    }\n",
              "</style>\n",
              "<table border=\"1\" class=\"dataframe\">\n",
              "  <thead>\n",
              "    <tr style=\"text-align: right;\">\n",
              "      <th></th>\n",
              "      <th>track_uri</th>\n",
              "      <th>artist_uri</th>\n",
              "      <th>genres</th>\n",
              "    </tr>\n",
              "  </thead>\n",
              "  <tbody>\n",
              "    <tr>\n",
              "      <th>0</th>\n",
              "      <td>7FDuSqP0qxvFFrcftd93aB</td>\n",
              "      <td>2ye2Wgw4gimLv2eAKyk1NB</td>\n",
              "      <td>[hard rock, metal, old school thrash, rock, th...</td>\n",
              "    </tr>\n",
              "    <tr>\n",
              "      <th>1</th>\n",
              "      <td>5uKsIijGkAbWmYAEdnCPhG</td>\n",
              "      <td>5M52tdBnJaKSvOpJGz8mfZ</td>\n",
              "      <td>[album rock, birmingham metal, classic rock, h...</td>\n",
              "    </tr>\n",
              "    <tr>\n",
              "      <th>2</th>\n",
              "      <td>0CFgePbuBfvMvornA4z4H4</td>\n",
              "      <td>1Xz8iP9Dvl5uI88iraOhs7</td>\n",
              "      <td>[oriental metal, turkish metal]</td>\n",
              "    </tr>\n",
              "    <tr>\n",
              "      <th>3</th>\n",
              "      <td>6Nm8h73ycDG2saCnZV8poF</td>\n",
              "      <td>3HVdAiMNjYrQIKlOGxoGh5</td>\n",
              "      <td>[alternative metal, hard rock, industrial rock...</td>\n",
              "    </tr>\n",
              "    <tr>\n",
              "      <th>4</th>\n",
              "      <td>071hmHI51coELRK8hoH12U</td>\n",
              "      <td>0nmQIMXWTXfhgOBdNzhGOs</td>\n",
              "      <td>[alternative metal, nu metal]</td>\n",
              "    </tr>\n",
              "  </tbody>\n",
              "</table>\n",
              "</div>"
            ],
            "text/plain": [
              "                track_uri  ...                                             genres\n",
              "0  7FDuSqP0qxvFFrcftd93aB  ...  [hard rock, metal, old school thrash, rock, th...\n",
              "1  5uKsIijGkAbWmYAEdnCPhG  ...  [album rock, birmingham metal, classic rock, h...\n",
              "2  0CFgePbuBfvMvornA4z4H4  ...                    [oriental metal, turkish metal]\n",
              "3  6Nm8h73ycDG2saCnZV8poF  ...  [alternative metal, hard rock, industrial rock...\n",
              "4  071hmHI51coELRK8hoH12U  ...                      [alternative metal, nu metal]\n",
              "\n",
              "[5 rows x 3 columns]"
            ]
          },
          "metadata": {},
          "execution_count": 60
        }
      ]
    },
    {
      "cell_type": "code",
      "metadata": {
        "colab": {
          "base_uri": "https://localhost:8080/",
          "height": 203
        },
        "id": "K7jDB-vtYUn-",
        "outputId": "0b07fb5b-9f4d-46a8-9d37-aaf9f01b8302"
      },
      "source": [
        "df_genre_expanded = df_genre.explode('genres')\n",
        "df_genre_expanded.head()"
      ],
      "execution_count": null,
      "outputs": [
        {
          "output_type": "execute_result",
          "data": {
            "text/html": [
              "<div>\n",
              "<style scoped>\n",
              "    .dataframe tbody tr th:only-of-type {\n",
              "        vertical-align: middle;\n",
              "    }\n",
              "\n",
              "    .dataframe tbody tr th {\n",
              "        vertical-align: top;\n",
              "    }\n",
              "\n",
              "    .dataframe thead th {\n",
              "        text-align: right;\n",
              "    }\n",
              "</style>\n",
              "<table border=\"1\" class=\"dataframe\">\n",
              "  <thead>\n",
              "    <tr style=\"text-align: right;\">\n",
              "      <th></th>\n",
              "      <th>track_uri</th>\n",
              "      <th>artist_uri</th>\n",
              "      <th>genres</th>\n",
              "    </tr>\n",
              "  </thead>\n",
              "  <tbody>\n",
              "    <tr>\n",
              "      <th>0</th>\n",
              "      <td>7FDuSqP0qxvFFrcftd93aB</td>\n",
              "      <td>2ye2Wgw4gimLv2eAKyk1NB</td>\n",
              "      <td>hard rock</td>\n",
              "    </tr>\n",
              "    <tr>\n",
              "      <th>0</th>\n",
              "      <td>7FDuSqP0qxvFFrcftd93aB</td>\n",
              "      <td>2ye2Wgw4gimLv2eAKyk1NB</td>\n",
              "      <td>metal</td>\n",
              "    </tr>\n",
              "    <tr>\n",
              "      <th>0</th>\n",
              "      <td>7FDuSqP0qxvFFrcftd93aB</td>\n",
              "      <td>2ye2Wgw4gimLv2eAKyk1NB</td>\n",
              "      <td>old school thrash</td>\n",
              "    </tr>\n",
              "    <tr>\n",
              "      <th>0</th>\n",
              "      <td>7FDuSqP0qxvFFrcftd93aB</td>\n",
              "      <td>2ye2Wgw4gimLv2eAKyk1NB</td>\n",
              "      <td>rock</td>\n",
              "    </tr>\n",
              "    <tr>\n",
              "      <th>0</th>\n",
              "      <td>7FDuSqP0qxvFFrcftd93aB</td>\n",
              "      <td>2ye2Wgw4gimLv2eAKyk1NB</td>\n",
              "      <td>thrash metal</td>\n",
              "    </tr>\n",
              "  </tbody>\n",
              "</table>\n",
              "</div>"
            ],
            "text/plain": [
              "                track_uri              artist_uri             genres\n",
              "0  7FDuSqP0qxvFFrcftd93aB  2ye2Wgw4gimLv2eAKyk1NB          hard rock\n",
              "0  7FDuSqP0qxvFFrcftd93aB  2ye2Wgw4gimLv2eAKyk1NB              metal\n",
              "0  7FDuSqP0qxvFFrcftd93aB  2ye2Wgw4gimLv2eAKyk1NB  old school thrash\n",
              "0  7FDuSqP0qxvFFrcftd93aB  2ye2Wgw4gimLv2eAKyk1NB               rock\n",
              "0  7FDuSqP0qxvFFrcftd93aB  2ye2Wgw4gimLv2eAKyk1NB       thrash metal"
            ]
          },
          "metadata": {},
          "execution_count": 61
        }
      ]
    },
    {
      "cell_type": "code",
      "metadata": {
        "colab": {
          "base_uri": "https://localhost:8080/"
        },
        "id": "apxGtOSUYX-G",
        "outputId": "12770b08-1391-4366-fa84-9704a9266b48"
      },
      "source": [
        "# save df_tableau and df_genre_expanded as csv files that we can load into Tableau\n",
        "df_tableau.to_csv('MySpotifyDataTable.csv')\n",
        "df_genre_expanded.to_csv('GenresExpandedTable.csv')\n",
        "\n",
        "print('done')"
      ],
      "execution_count": null,
      "outputs": [
        {
          "output_type": "stream",
          "name": "stdout",
          "text": [
            "done\n"
          ]
        }
      ]
    },
    {
      "cell_type": "markdown",
      "metadata": {
        "id": "vn7cOV9WkAyt"
      },
      "source": [
        "Until this part, I prepared and export the data for the usage in Tableau. After this, I used Tableau Public program to make some visualizations"
      ]
    }
  ]
}